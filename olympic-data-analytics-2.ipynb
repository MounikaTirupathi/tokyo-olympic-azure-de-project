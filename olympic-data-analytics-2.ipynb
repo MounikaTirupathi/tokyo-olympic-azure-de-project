{
 "cells": [
  {
   "cell_type": "code",
   "execution_count": 0,
   "metadata": {
    "application/vnd.databricks.v1+cell": {
     "cellMetadata": {
      "byteLimit": 2048000,
      "rowLimit": 10000
     },
     "inputWidgets": {},
     "nuid": "9e55f8ee-d621-4bba-9105-c6ef1f4dfead",
     "showTitle": false,
     "title": ""
    }
   },
   "outputs": [],
   "source": [
    "from pyspark.sql.functions import *\n",
    "from pyspark.sql.types import *"
   ]
  },
  {
   "cell_type": "code",
   "execution_count": 0,
   "metadata": {
    "application/vnd.databricks.v1+cell": {
     "cellMetadata": {
      "byteLimit": 2048000,
      "rowLimit": 10000
     },
     "inputWidgets": {},
     "nuid": "9e3a3a10-4f4f-4dbc-8e59-9cacee1068e3",
     "showTitle": false,
     "title": ""
    }
   },
   "outputs": [
    {
     "output_type": "display_data",
     "data": {
      "text/html": [
       "<style scoped>\n",
       "  .table-result-container {\n",
       "    max-height: 300px;\n",
       "    overflow: auto;\n",
       "  }\n",
       "  table, th, td {\n",
       "    border: 1px solid black;\n",
       "    border-collapse: collapse;\n",
       "  }\n",
       "  th, td {\n",
       "    padding: 5px;\n",
       "  }\n",
       "  th {\n",
       "    text-align: left;\n",
       "  }\n",
       "</style><div class='table-result-container'><table class='table-result'><thead style='background-color: white'><tr><th>path</th><th>name</th><th>size</th><th>modificationTime</th></tr></thead><tbody><tr><td>dbfs:/mnt/olymproj/refined-data/atheletes/</td><td>atheletes/</td><td>0</td><td>0</td></tr><tr><td>dbfs:/mnt/olymproj/refined-data/coaches/</td><td>coaches/</td><td>0</td><td>0</td></tr><tr><td>dbfs:/mnt/olymproj/refined-data/entriesgender/</td><td>entriesgender/</td><td>0</td><td>0</td></tr><tr><td>dbfs:/mnt/olymproj/refined-data/medals/</td><td>medals/</td><td>0</td><td>0</td></tr><tr><td>dbfs:/mnt/olymproj/refined-data/teams/</td><td>teams/</td><td>0</td><td>0</td></tr></tbody></table></div>"
      ]
     },
     "metadata": {
      "application/vnd.databricks.v1+output": {
       "addedWidgets": {},
       "aggData": [],
       "aggError": "",
       "aggOverflow": false,
       "aggSchema": [],
       "aggSeriesLimitReached": false,
       "aggType": "",
       "arguments": {},
       "columnCustomDisplayInfos": {},
       "data": [
        [
         "dbfs:/mnt/olymproj/refined-data/atheletes/",
         "atheletes/",
         0,
         0
        ],
        [
         "dbfs:/mnt/olymproj/refined-data/coaches/",
         "coaches/",
         0,
         0
        ],
        [
         "dbfs:/mnt/olymproj/refined-data/entriesgender/",
         "entriesgender/",
         0,
         0
        ],
        [
         "dbfs:/mnt/olymproj/refined-data/medals/",
         "medals/",
         0,
         0
        ],
        [
         "dbfs:/mnt/olymproj/refined-data/teams/",
         "teams/",
         0,
         0
        ]
       ],
       "datasetInfos": [],
       "dbfsResultPath": null,
       "isJsonSchema": true,
       "metadata": {
        "isDbfsCommandResult": false
       },
       "overflow": false,
       "plotOptions": {
        "customPlotOptions": {},
        "displayType": "table",
        "pivotAggregation": null,
        "pivotColumns": null,
        "xColumns": null,
        "yColumns": null
       },
       "removedWidgets": [],
       "schema": [
        {
         "metadata": "{}",
         "name": "path",
         "type": "\"string\""
        },
        {
         "metadata": "{}",
         "name": "name",
         "type": "\"string\""
        },
        {
         "metadata": "{}",
         "name": "size",
         "type": "\"long\""
        },
        {
         "metadata": "{}",
         "name": "modificationTime",
         "type": "\"long\""
        }
       ],
       "type": "table"
      }
     },
     "output_type": "display_data"
    }
   ],
   "source": [
    "%fs\n",
    "ls /mnt/olymproj/refined-data"
   ]
  },
  {
   "cell_type": "code",
   "execution_count": 0,
   "metadata": {
    "application/vnd.databricks.v1+cell": {
     "cellMetadata": {
      "byteLimit": 2048000,
      "rowLimit": 10000
     },
     "inputWidgets": {},
     "nuid": "8ff28de7-e6ef-4a83-b5ab-13650818ee26",
     "showTitle": false,
     "title": ""
    }
   },
   "outputs": [],
   "source": [
    "df1=spark.read.format(\"delta\").load(\"/mnt/olymproj/refined-data/atheletes/\",header=\"true\")\n",
    "df2=spark.read.format(\"delta\").load(\"/mnt/olymproj/refined-data/coaches/\",header=\"true\")\n",
    "df3=spark.read.format(\"delta\").load(\"/mnt/olymproj/refined-data/entriesgender/\",header=\"true\")\n",
    "df4=spark.read.format(\"delta\").load(\"/mnt/olymproj/refined-data/medals/\",header=\"true\")\n",
    "df5=spark.read.format(\"delta\").load(\"/mnt/olymproj/refined-data/teams/\",header=\"true\")"
   ]
  },
  {
   "cell_type": "code",
   "execution_count": 0,
   "metadata": {
    "application/vnd.databricks.v1+cell": {
     "cellMetadata": {
      "byteLimit": 2048000,
      "rowLimit": 10000
     },
     "inputWidgets": {},
     "nuid": "b734fc14-7f61-45de-b9ae-f6bd35026944",
     "showTitle": false,
     "title": ""
    }
   },
   "outputs": [
    {
     "output_type": "display_data",
     "data": {
      "text/html": [
       "<style scoped>\n",
       "  .table-result-container {\n",
       "    max-height: 300px;\n",
       "    overflow: auto;\n",
       "  }\n",
       "  table, th, td {\n",
       "    border: 1px solid black;\n",
       "    border-collapse: collapse;\n",
       "  }\n",
       "  th, td {\n",
       "    padding: 5px;\n",
       "  }\n",
       "  th {\n",
       "    text-align: left;\n",
       "  }\n",
       "</style><div class='table-result-container'><table class='table-result'><thead style='background-color: white'><tr><th>Country</th><th>Players_count</th></tr></thead><tbody><tr><td>United States of America</td><td>615</td></tr><tr><td>Japan</td><td>586</td></tr><tr><td>Australia</td><td>470</td></tr><tr><td>People's Republic of China</td><td>401</td></tr><tr><td>Germany</td><td>400</td></tr><tr><td>France</td><td>377</td></tr><tr><td>Canada</td><td>368</td></tr><tr><td>Great Britain</td><td>366</td></tr><tr><td>Italy</td><td>356</td></tr><tr><td>Spain</td><td>324</td></tr></tbody></table></div>"
      ]
     },
     "metadata": {
      "application/vnd.databricks.v1+output": {
       "addedWidgets": {},
       "aggData": [],
       "aggError": "",
       "aggOverflow": false,
       "aggSchema": [],
       "aggSeriesLimitReached": false,
       "aggType": "",
       "arguments": {},
       "columnCustomDisplayInfos": {},
       "data": [
        [
         "United States of America",
         615
        ],
        [
         "Japan",
         586
        ],
        [
         "Australia",
         470
        ],
        [
         "People's Republic of China",
         401
        ],
        [
         "Germany",
         400
        ],
        [
         "France",
         377
        ],
        [
         "Canada",
         368
        ],
        [
         "Great Britain",
         366
        ],
        [
         "Italy",
         356
        ],
        [
         "Spain",
         324
        ]
       ],
       "datasetInfos": [],
       "dbfsResultPath": null,
       "isJsonSchema": true,
       "metadata": {},
       "overflow": false,
       "plotOptions": {
        "customPlotOptions": {},
        "displayType": "table",
        "pivotAggregation": null,
        "pivotColumns": null,
        "xColumns": null,
        "yColumns": null
       },
       "removedWidgets": [],
       "schema": [
        {
         "metadata": "{}",
         "name": "Country",
         "type": "\"string\""
        },
        {
         "metadata": "{}",
         "name": "Players_count",
         "type": "\"long\""
        }
       ],
       "type": "table"
      }
     },
     "output_type": "display_data"
    }
   ],
   "source": [
    "adf1=df1.groupBy(\"Country\").agg(\n",
    "count(\"PersonName\").alias(\"Players_count\")).orderBy(expr(\"Players_Count\").desc()).limit(10)\n",
    "display(adf1)"
   ]
  },
  {
   "cell_type": "code",
   "execution_count": 0,
   "metadata": {
    "application/vnd.databricks.v1+cell": {
     "cellMetadata": {
      "byteLimit": 2048000,
      "rowLimit": 10000
     },
     "inputWidgets": {},
     "nuid": "4823e5aa-6a33-49f9-848b-b9d1343782fd",
     "showTitle": false,
     "title": ""
    }
   },
   "outputs": [],
   "source": [
    "df_join=adf1.join(df4, \n",
    "               adf1.Country == df4.Team_Country, \n",
    "               \"inner\").orderBy(\"Rank_Overall\")\n"
   ]
  },
  {
   "cell_type": "code",
   "execution_count": 0,
   "metadata": {
    "application/vnd.databricks.v1+cell": {
     "cellMetadata": {
      "byteLimit": 2048000,
      "rowLimit": 10000
     },
     "inputWidgets": {},
     "nuid": "5a6a9f98-696d-45c4-8b3b-d66819ed30d1",
     "showTitle": false,
     "title": ""
    }
   },
   "outputs": [
    {
     "output_type": "display_data",
     "data": {
      "text/html": [
       "<style scoped>\n",
       "  .table-result-container {\n",
       "    max-height: 300px;\n",
       "    overflow: auto;\n",
       "  }\n",
       "  table, th, td {\n",
       "    border: 1px solid black;\n",
       "    border-collapse: collapse;\n",
       "  }\n",
       "  th, td {\n",
       "    padding: 5px;\n",
       "  }\n",
       "  th {\n",
       "    text-align: left;\n",
       "  }\n",
       "</style><div class='table-result-container'><table class='table-result'><thead style='background-color: white'><tr><th>Country</th><th>Gold_won</th><th>Silver_won</th><th>Bronze_won</th><th>Total_won</th><th>Rank_Overall</th><th>Players_count</th></tr></thead><tbody><tr><td>United States of America</td><td>39</td><td>41</td><td>33</td><td>113</td><td>1</td><td>615</td></tr><tr><td>People's Republic of China</td><td>38</td><td>32</td><td>18</td><td>88</td><td>2</td><td>401</td></tr><tr><td>Great Britain</td><td>22</td><td>21</td><td>22</td><td>65</td><td>4</td><td>366</td></tr><tr><td>Japan</td><td>27</td><td>14</td><td>17</td><td>58</td><td>5</td><td>586</td></tr><tr><td>Australia</td><td>17</td><td>7</td><td>22</td><td>46</td><td>6</td><td>470</td></tr><tr><td>Italy</td><td>10</td><td>10</td><td>20</td><td>40</td><td>7</td><td>356</td></tr><tr><td>Germany</td><td>10</td><td>11</td><td>16</td><td>37</td><td>8</td><td>400</td></tr><tr><td>France</td><td>10</td><td>12</td><td>11</td><td>33</td><td>10</td><td>377</td></tr><tr><td>Canada</td><td>7</td><td>6</td><td>11</td><td>24</td><td>11</td><td>368</td></tr><tr><td>Spain</td><td>3</td><td>8</td><td>6</td><td>17</td><td>17</td><td>324</td></tr></tbody></table></div>"
      ]
     },
     "metadata": {
      "application/vnd.databricks.v1+output": {
       "addedWidgets": {},
       "aggData": [],
       "aggError": "",
       "aggOverflow": false,
       "aggSchema": [],
       "aggSeriesLimitReached": false,
       "aggType": "",
       "arguments": {},
       "columnCustomDisplayInfos": {},
       "data": [
        [
         "United States of America",
         39,
         41,
         33,
         113,
         1,
         615
        ],
        [
         "People's Republic of China",
         38,
         32,
         18,
         88,
         2,
         401
        ],
        [
         "Great Britain",
         22,
         21,
         22,
         65,
         4,
         366
        ],
        [
         "Japan",
         27,
         14,
         17,
         58,
         5,
         586
        ],
        [
         "Australia",
         17,
         7,
         22,
         46,
         6,
         470
        ],
        [
         "Italy",
         10,
         10,
         20,
         40,
         7,
         356
        ],
        [
         "Germany",
         10,
         11,
         16,
         37,
         8,
         400
        ],
        [
         "France",
         10,
         12,
         11,
         33,
         10,
         377
        ],
        [
         "Canada",
         7,
         6,
         11,
         24,
         11,
         368
        ],
        [
         "Spain",
         3,
         8,
         6,
         17,
         17,
         324
        ]
       ],
       "datasetInfos": [],
       "dbfsResultPath": null,
       "isJsonSchema": true,
       "metadata": {},
       "overflow": false,
       "plotOptions": {
        "customPlotOptions": {},
        "displayType": "table",
        "pivotAggregation": null,
        "pivotColumns": null,
        "xColumns": null,
        "yColumns": null
       },
       "removedWidgets": [],
       "schema": [
        {
         "metadata": "{}",
         "name": "Country",
         "type": "\"string\""
        },
        {
         "metadata": "{}",
         "name": "Gold_won",
         "type": "\"integer\""
        },
        {
         "metadata": "{}",
         "name": "Silver_won",
         "type": "\"integer\""
        },
        {
         "metadata": "{}",
         "name": "Bronze_won",
         "type": "\"integer\""
        },
        {
         "metadata": "{}",
         "name": "Total_won",
         "type": "\"integer\""
        },
        {
         "metadata": "{}",
         "name": "Rank_Overall",
         "type": "\"integer\""
        },
        {
         "metadata": "{}",
         "name": "Players_count",
         "type": "\"long\""
        }
       ],
       "type": "table"
      }
     },
     "output_type": "display_data"
    }
   ],
   "source": [
    "df6=df_join.select(\n",
    "    col(\"Country\"),\n",
    "    col(\"Gold_won\"),\n",
    "    col(\"Silver_won\"),\n",
    "    col(\"Bronze_won\"),\n",
    "    col(\"Total_won\"),\n",
    "    col(\"Rank_Overall\"),\n",
    "    col(\"Players_count\")\n",
    ")\n",
    "display(df6)"
   ]
  },
  {
   "cell_type": "code",
   "execution_count": 0,
   "metadata": {
    "application/vnd.databricks.v1+cell": {
     "cellMetadata": {
      "byteLimit": 2048000,
      "rowLimit": 10000
     },
     "inputWidgets": {},
     "nuid": "64797e32-cee8-49fc-9d12-f49735fdfb0a",
     "showTitle": false,
     "title": ""
    }
   },
   "outputs": [],
   "source": [
    "df6.write.mode(\"overwrite\").option(\"header\",'True').option(\"path\",\"/mnt/olymproj/reporting-data/Final\").save()"
   ]
  }
 ],
 "metadata": {
  "application/vnd.databricks.v1+notebook": {
   "dashboards": [],
   "language": "python",
   "notebookMetadata": {
    "mostRecentlyExecutedCommandWithImplicitDF": {
     "commandId": 3128905866195639,
     "dataframes": [
      "_sqldf"
     ]
    },
    "pythonIndentUnit": 4
   },
   "notebookName": "olympic-data-analytics-2",
   "widgets": {}
  }
 },
 "nbformat": 4,
 "nbformat_minor": 0
}
