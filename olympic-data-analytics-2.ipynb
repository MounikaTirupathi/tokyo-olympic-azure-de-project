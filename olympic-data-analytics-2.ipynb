{
 "cells": [
  {
   "cell_type": "code",
   "execution_count": 0,
   "metadata": {
    "application/vnd.databricks.v1+cell": {
     "cellMetadata": {
      "byteLimit": 2048000,
      "rowLimit": 10000
     },
     "inputWidgets": {},
     "nuid": "9e55f8ee-d621-4bba-9105-c6ef1f4dfead",
     "showTitle": false,
     "title": ""
    }
   },
   "outputs": [],
   "source": [
    "from pyspark.sql.functions import *\n",
    "from pyspark.sql.types import *"
   ]
  },
  {
   "cell_type": "code",
   "execution_count": 0,
   "metadata": {
    "application/vnd.databricks.v1+cell": {
     "cellMetadata": {
      "byteLimit": 2048000,
      "rowLimit": 10000
     },
     "inputWidgets": {},
     "nuid": "9e3a3a10-4f4f-4dbc-8e59-9cacee1068e3",
     "showTitle": false,
     "title": ""
    }
   },
   "outputs": [
    {
     "output_type": "display_data",
     "data": {
      "text/html": [
       "<style scoped>\n",
       "  .table-result-container {\n",
       "    max-height: 300px;\n",
       "    overflow: auto;\n",
       "  }\n",
       "  table, th, td {\n",
       "    border: 1px solid black;\n",
       "    border-collapse: collapse;\n",
       "  }\n",
       "  th, td {\n",
       "    padding: 5px;\n",
       "  }\n",
       "  th {\n",
       "    text-align: left;\n",
       "  }\n",
       "</style><div class='table-result-container'><table class='table-result'><thead style='background-color: white'><tr><th>path</th><th>name</th><th>size</th><th>modificationTime</th></tr></thead><tbody><tr><td>dbfs:/mnt/olymproj/refined-data/atheletes/</td><td>atheletes/</td><td>0</td><td>0</td></tr><tr><td>dbfs:/mnt/olymproj/refined-data/coaches/</td><td>coaches/</td><td>0</td><td>0</td></tr><tr><td>dbfs:/mnt/olymproj/refined-data/entriesgender/</td><td>entriesgender/</td><td>0</td><td>0</td></tr><tr><td>dbfs:/mnt/olymproj/refined-data/medals/</td><td>medals/</td><td>0</td><td>0</td></tr><tr><td>dbfs:/mnt/olymproj/refined-data/teams/</td><td>teams/</td><td>0</td><td>0</td></tr></tbody></table></div>"
      ]
     },
     "metadata": {
      "application/vnd.databricks.v1+output": {
       "addedWidgets": {},
       "aggData": [],
       "aggError": "",
       "aggOverflow": false,
       "aggSchema": [],
       "aggSeriesLimitReached": false,
       "aggType": "",
       "arguments": {},
       "columnCustomDisplayInfos": {},
       "data": [
        [
         "dbfs:/mnt/olymproj/refined-data/atheletes/",
         "atheletes/",
         0,
         0
        ],
        [
         "dbfs:/mnt/olymproj/refined-data/coaches/",
         "coaches/",
         0,
         0
        ],
        [
         "dbfs:/mnt/olymproj/refined-data/entriesgender/",
         "entriesgender/",
         0,
         0
        ],
        [
         "dbfs:/mnt/olymproj/refined-data/medals/",
         "medals/",
         0,
         0
        ],
        [
         "dbfs:/mnt/olymproj/refined-data/teams/",
         "teams/",
         0,
         0
        ]
       ],
       "datasetInfos": [],
       "dbfsResultPath": null,
       "isJsonSchema": true,
       "metadata": {
        "isDbfsCommandResult": false
       },
       "overflow": false,
       "plotOptions": {
        "customPlotOptions": {},
        "displayType": "table",
        "pivotAggregation": null,
        "pivotColumns": null,
        "xColumns": null,
        "yColumns": null
       },
       "removedWidgets": [],
       "schema": [
        {
         "metadata": "{}",
         "name": "path",
         "type": "\"string\""
        },
        {
         "metadata": "{}",
         "name": "name",
         "type": "\"string\""
        },
        {
         "metadata": "{}",
         "name": "size",
         "type": "\"long\""
        },
        {
         "metadata": "{}",
         "name": "modificationTime",
         "type": "\"long\""
        }
       ],
       "type": "table"
      }
     },
     "output_type": "display_data"
    }
   ],
   "source": [
    "%fs\n",
    "ls /mnt/olymproj/refined-data"
   ]
  },
  {
   "cell_type": "code",
   "execution_count": 0,
   "metadata": {
    "application/vnd.databricks.v1+cell": {
     "cellMetadata": {
      "byteLimit": 2048000,
      "rowLimit": 10000
     },
     "inputWidgets": {},
     "nuid": "8ff28de7-e6ef-4a83-b5ab-13650818ee26",
     "showTitle": false,
     "title": ""
    }
   },
   "outputs": [],
   "source": [
    "df1=spark.read.format(\"delta\").load(\"/mnt/olymproj/refined-data/atheletes/\",header=\"true\")\n",
    "df2=spark.read.format(\"delta\").load(\"/mnt/olymproj/refined-data/coaches/\",header=\"true\")\n",
    "df3=spark.read.format(\"delta\").load(\"/mnt/olymproj/refined-data/entriesgender/\",header=\"true\")\n",
    "df4=spark.read.format(\"delta\").load(\"/mnt/olymproj/refined-data/medals/\",header=\"true\")\n",
    "df5=spark.read.format(\"delta\").load(\"/mnt/olymproj/refined-data/teams/\",header=\"true\")"
   ]
  },
  {
   "cell_type": "code",
   "execution_count": 0,
   "metadata": {
    "application/vnd.databricks.v1+cell": {
     "cellMetadata": {
      "byteLimit": 2048000,
      "rowLimit": 10000
     },
     "inputWidgets": {},
     "nuid": "b734fc14-7f61-45de-b9ae-f6bd35026944",
     "showTitle": false,
     "title": ""
    }
   },
   "outputs": [
    {
     "output_type": "display_data",
     "data": {
      "text/html": [
       "<style scoped>\n",
       "  .table-result-container {\n",
       "    max-height: 300px;\n",
       "    overflow: auto;\n",
       "  }\n",
       "  table, th, td {\n",
       "    border: 1px solid black;\n",
       "    border-collapse: collapse;\n",
       "  }\n",
       "  th, td {\n",
       "    padding: 5px;\n",
       "  }\n",
       "  th {\n",
       "    text-align: left;\n",
       "  }\n",
       "</style><div class='table-result-container'><table class='table-result'><thead style='background-color: white'><tr><th>Country</th><th>Players_count</th></tr></thead><tbody><tr><td>United States of America</td><td>615</td></tr><tr><td>Japan</td><td>586</td></tr><tr><td>Australia</td><td>470</td></tr><tr><td>People's Republic of China</td><td>401</td></tr><tr><td>Germany</td><td>400</td></tr><tr><td>France</td><td>377</td></tr><tr><td>Canada</td><td>368</td></tr><tr><td>Great Britain</td><td>366</td></tr><tr><td>Italy</td><td>356</td></tr><tr><td>Spain</td><td>324</td></tr><tr><td>ROC</td><td>318</td></tr><tr><td>Brazil</td><td>291</td></tr><tr><td>Netherlands</td><td>274</td></tr><tr><td>Republic of Korea</td><td>223</td></tr><tr><td>New Zealand</td><td>202</td></tr><tr><td>Poland</td><td>195</td></tr><tr><td>Argentina</td><td>180</td></tr><tr><td>South Africa</td><td>171</td></tr><tr><td>Mexico</td><td>155</td></tr><tr><td>Hungary</td><td>155</td></tr><tr><td>Ukraine</td><td>152</td></tr><tr><td>Egypt</td><td>133</td></tr><tr><td>Sweden</td><td>129</td></tr><tr><td>Belgium</td><td>125</td></tr><tr><td>India</td><td>117</td></tr><tr><td>Czech Republic</td><td>117</td></tr><tr><td>Ireland</td><td>116</td></tr><tr><td>Switzerland</td><td>115</td></tr><tr><td>Belarus</td><td>104</td></tr><tr><td>Denmark</td><td>103</td></tr><tr><td>Turkey</td><td>102</td></tr><tr><td>Romania</td><td>99</td></tr><tr><td>Norway</td><td>92</td></tr><tr><td>Kazakhstan</td><td>92</td></tr><tr><td>Israel</td><td>85</td></tr><tr><td>Portugal</td><td>85</td></tr><tr><td>Serbia</td><td>83</td></tr><tr><td>Kenya</td><td>78</td></tr><tr><td>Greece</td><td>75</td></tr><tr><td>Austria</td><td>72</td></tr><tr><td>Cuba</td><td>69</td></tr><tr><td>Chinese Taipei</td><td>67</td></tr><tr><td>Islamic Republic of Iran</td><td>66</td></tr><tr><td>Colombia</td><td>64</td></tr><tr><td>Uzbekistan</td><td>63</td></tr><tr><td>Dominican Republic</td><td>61</td></tr><tr><td>Jamaica</td><td>60</td></tr><tr><td>Nigeria</td><td>59</td></tr><tr><td>Croatia</td><td>57</td></tr><tr><td>Tunisia</td><td>57</td></tr><tr><td>Chile</td><td>56</td></tr><tr><td>Slovenia</td><td>51</td></tr><tr><td>Morocco</td><td>48</td></tr><tr><td>Ecuador</td><td>46</td></tr><tr><td>Finland</td><td>45</td></tr><tr><td>Venezuela</td><td>43</td></tr><tr><td>Mongolia</td><td>43</td></tr><tr><td>Ethiopia</td><td>42</td></tr><tr><td>Algeria</td><td>41</td></tr><tr><td>Azerbaijan</td><td>41</td></tr><tr><td>Bulgaria</td><td>41</td></tr><tr><td>Hong Kong, China</td><td>40</td></tr><tr><td>Thailand</td><td>39</td></tr><tr><td>Slovakia</td><td>38</td></tr><tr><td>Lithuania</td><td>37</td></tr><tr><td>Puerto Rico</td><td>35</td></tr><tr><td>Georgia</td><td>35</td></tr><tr><td>Montenegro</td><td>35</td></tr><tr><td>Peru</td><td>33</td></tr><tr><td>Estonia</td><td>33</td></tr><tr><td>Saudi Arabia</td><td>32</td></tr><tr><td>Trinidad and Tobago</td><td>31</td></tr><tr><td>Bahrain</td><td>31</td></tr><tr><td>Malaysia</td><td>29</td></tr><tr><td>C�te d'Ivoire</td><td>29</td></tr><tr><td>Zambia</td><td>29</td></tr><tr><td>Latvia</td><td>29</td></tr><tr><td>Fiji</td><td>28</td></tr><tr><td>Refugee Olympic Team</td><td>26</td></tr><tr><td>Indonesia</td><td>26</td></tr><tr><td>Honduras</td><td>25</td></tr><tr><td>Uganda</td><td>24</td></tr><tr><td>Singapore</td><td>23</td></tr><tr><td>Guatemala</td><td>22</td></tr><tr><td>Angola</td><td>20</td></tr><tr><td>Republic of Moldova</td><td>19</td></tr><tr><td>Philippines</td><td>18</td></tr><tr><td>Vietnam</td><td>17</td></tr><tr><td>Bahamas</td><td>16</td></tr><tr><td>Armenia</td><td>16</td></tr><tr><td>Kyrgyzstan</td><td>16</td></tr><tr><td>Qatar</td><td>14</td></tr><tr><td>Ghana</td><td>14</td></tr><tr><td>Cyprus</td><td>14</td></tr><tr><td>Eritrea</td><td>13</td></tr><tr><td>Botswana</td><td>13</td></tr><tr><td>Costa Rica</td><td>13</td></tr><tr><td>Jordan</td><td>11</td></tr><tr><td>Uruguay</td><td>11</td></tr><tr><td>Namibia</td><td>11</td></tr><tr><td>Luxembourg</td><td>11</td></tr><tr><td>Cameroon</td><td>11</td></tr><tr><td>Kosovo</td><td>10</td></tr><tr><td>Kuwait</td><td>10</td></tr><tr><td>Pakistan</td><td>10</td></tr><tr><td>Senegal</td><td>9</td></tr><tr><td>Sri Lanka</td><td>9</td></tr><tr><td>Panama</td><td>9</td></tr><tr><td>Paraguay</td><td>8</td></tr><tr><td>Albania</td><td>8</td></tr><tr><td>Nicaragua</td><td>8</td></tr><tr><td>Tajikistan</td><td>8</td></tr><tr><td>Turkmenistan</td><td>8</td></tr><tr><td>Samoa</td><td>8</td></tr><tr><td>North Macedonia</td><td>8</td></tr><tr><td>Mozambique</td><td>8</td></tr><tr><td>Guyana</td><td>7</td></tr><tr><td>Benin</td><td>7</td></tr><tr><td>Niger</td><td>7</td></tr><tr><td>Barbados</td><td>7</td></tr><tr><td>Democratic Republic of the Congo</td><td>7</td></tr><tr><td>Bosnia and Herzegovina</td><td>7</td></tr><tr><td>Papua New Guinea</td><td>7</td></tr><tr><td>Burkina Faso</td><td>7</td></tr><tr><td>Mauritius</td><td>7</td></tr><tr><td>Madagascar</td><td>6</td></tr><tr><td>Malta</td><td>6</td></tr><tr><td>Burundi</td><td>6</td></tr><tr><td>Bangladesh</td><td>6</td></tr><tr><td>Monaco</td><td>6</td></tr><tr><td>Cape Verde</td><td>6</td></tr><tr><td>Grenada</td><td>6</td></tr><tr><td>Cook Islands</td><td>6</td></tr><tr><td>Lebanon</td><td>6</td></tr><tr><td>Antigua and Barbuda</td><td>6</td></tr><tr><td>Haiti</td><td>6</td></tr><tr><td>Syrian Arab Republic</td><td>6</td></tr><tr><td>Tonga</td><td>5</td></tr><tr><td>Malawi</td><td>5</td></tr><tr><td>Afghanistan</td><td>5</td></tr><tr><td>Rwanda</td><td>5</td></tr><tr><td>Sudan</td><td>5</td></tr><tr><td>American Samoa</td><td>5</td></tr><tr><td>Cayman Islands</td><td>5</td></tr><tr><td>Bolivia</td><td>5</td></tr><tr><td>Gabon</td><td>5</td></tr><tr><td>Liechtenstein</td><td>5</td></tr><tr><td>Oman</td><td>5</td></tr><tr><td>Zimbabwe</td><td>5</td></tr><tr><td>Guam</td><td>5</td></tr><tr><td>Saint Lucia</td><td>5</td></tr><tr><td>Guinea</td><td>5</td></tr><tr><td>Seychelles</td><td>5</td></tr><tr><td>Nepal</td><td>5</td></tr><tr><td>El Salvador</td><td>5</td></tr><tr><td>Djibouti</td><td>4</td></tr><tr><td>Iraq</td><td>4</td></tr><tr><td>Maldives</td><td>4</td></tr><tr><td>Togo</td><td>4</td></tr><tr><td>San Marino</td><td>4</td></tr><tr><td>Sierra Leone</td><td>4</td></tr><tr><td>Iceland</td><td>4</td></tr><tr><td>Palestine</td><td>4</td></tr><tr><td>Libya</td><td>4</td></tr><tr><td>Eswatini</td><td>4</td></tr><tr><td>United Arab Emirates</td><td>4</td></tr><tr><td>Lao People's Democratic Republic</td><td>4</td></tr><tr><td>Guinea-Bissau</td><td>4</td></tr><tr><td>Virgin Islands, US</td><td>4</td></tr><tr><td>Mali</td><td>4</td></tr><tr><td>Chad</td><td>3</td></tr><tr><td>Yemen</td><td>3</td></tr><tr><td>Kiribati</td><td>3</td></tr><tr><td>Comoros</td><td>3</td></tr><tr><td>Cambodia</td><td>3</td></tr><tr><td>Palau</td><td>3</td></tr><tr><td>Equatorial Guinea</td><td>3</td></tr><tr><td>Sao Tome and Principe</td><td>3</td></tr><tr><td>Suriname</td><td>3</td></tr><tr><td>Congo</td><td>3</td></tr><tr><td>Bhutan</td><td>3</td></tr><tr><td>Virgin Islands, British</td><td>3</td></tr><tr><td>Aruba</td><td>3</td></tr><tr><td>Federated States of Micronesia</td><td>3</td></tr><tr><td>Liberia</td><td>3</td></tr><tr><td>Belize</td><td>3</td></tr><tr><td>Gambia</td><td>3</td></tr><tr><td>Solomon Islands</td><td>3</td></tr><tr><td>Democratic Republic of Timor-Leste</td><td>3</td></tr><tr><td>Dominica</td><td>2</td></tr><tr><td>Lesotho</td><td>2</td></tr><tr><td>Myanmar</td><td>2</td></tr><tr><td>Brunei Darussalam</td><td>2</td></tr><tr><td>Somalia</td><td>2</td></tr><tr><td>Marshall Islands</td><td>2</td></tr><tr><td>Tuvalu</td><td>2</td></tr><tr><td>United Republic of Tanzania</td><td>2</td></tr><tr><td>Andorra</td><td>2</td></tr><tr><td>St Vincent and the Grenadines</td><td>2</td></tr><tr><td>Mauritania</td><td>2</td></tr><tr><td>Central African Republic</td><td>2</td></tr><tr><td>Nauru</td><td>2</td></tr><tr><td>Saint Kitts and Nevis</td><td>2</td></tr><tr><td>South Sudan</td><td>2</td></tr><tr><td>Bermuda</td><td>2</td></tr><tr><td>Vanuatu</td><td>2</td></tr></tbody></table></div>"
      ]
     },
     "metadata": {
      "application/vnd.databricks.v1+output": {
       "addedWidgets": {},
       "aggData": [],
       "aggError": "",
       "aggOverflow": false,
       "aggSchema": [],
       "aggSeriesLimitReached": false,
       "aggType": "",
       "arguments": {},
       "columnCustomDisplayInfos": {},
       "data": [
        [
         "United States of America",
         615
        ],
        [
         "Japan",
         586
        ],
        [
         "Australia",
         470
        ],
        [
         "People's Republic of China",
         401
        ],
        [
         "Germany",
         400
        ],
        [
         "France",
         377
        ],
        [
         "Canada",
         368
        ],
        [
         "Great Britain",
         366
        ],
        [
         "Italy",
         356
        ],
        [
         "Spain",
         324
        ],
        [
         "ROC",
         318
        ],
        [
         "Brazil",
         291
        ],
        [
         "Netherlands",
         274
        ],
        [
         "Republic of Korea",
         223
        ],
        [
         "New Zealand",
         202
        ],
        [
         "Poland",
         195
        ],
        [
         "Argentina",
         180
        ],
        [
         "South Africa",
         171
        ],
        [
         "Mexico",
         155
        ],
        [
         "Hungary",
         155
        ],
        [
         "Ukraine",
         152
        ],
        [
         "Egypt",
         133
        ],
        [
         "Sweden",
         129
        ],
        [
         "Belgium",
         125
        ],
        [
         "India",
         117
        ],
        [
         "Czech Republic",
         117
        ],
        [
         "Ireland",
         116
        ],
        [
         "Switzerland",
         115
        ],
        [
         "Belarus",
         104
        ],
        [
         "Denmark",
         103
        ],
        [
         "Turkey",
         102
        ],
        [
         "Romania",
         99
        ],
        [
         "Norway",
         92
        ],
        [
         "Kazakhstan",
         92
        ],
        [
         "Israel",
         85
        ],
        [
         "Portugal",
         85
        ],
        [
         "Serbia",
         83
        ],
        [
         "Kenya",
         78
        ],
        [
         "Greece",
         75
        ],
        [
         "Austria",
         72
        ],
        [
         "Cuba",
         69
        ],
        [
         "Chinese Taipei",
         67
        ],
        [
         "Islamic Republic of Iran",
         66
        ],
        [
         "Colombia",
         64
        ],
        [
         "Uzbekistan",
         63
        ],
        [
         "Dominican Republic",
         61
        ],
        [
         "Jamaica",
         60
        ],
        [
         "Nigeria",
         59
        ],
        [
         "Croatia",
         57
        ],
        [
         "Tunisia",
         57
        ],
        [
         "Chile",
         56
        ],
        [
         "Slovenia",
         51
        ],
        [
         "Morocco",
         48
        ],
        [
         "Ecuador",
         46
        ],
        [
         "Finland",
         45
        ],
        [
         "Venezuela",
         43
        ],
        [
         "Mongolia",
         43
        ],
        [
         "Ethiopia",
         42
        ],
        [
         "Algeria",
         41
        ],
        [
         "Azerbaijan",
         41
        ],
        [
         "Bulgaria",
         41
        ],
        [
         "Hong Kong, China",
         40
        ],
        [
         "Thailand",
         39
        ],
        [
         "Slovakia",
         38
        ],
        [
         "Lithuania",
         37
        ],
        [
         "Puerto Rico",
         35
        ],
        [
         "Georgia",
         35
        ],
        [
         "Montenegro",
         35
        ],
        [
         "Peru",
         33
        ],
        [
         "Estonia",
         33
        ],
        [
         "Saudi Arabia",
         32
        ],
        [
         "Trinidad and Tobago",
         31
        ],
        [
         "Bahrain",
         31
        ],
        [
         "Malaysia",
         29
        ],
        [
         "C�te d'Ivoire",
         29
        ],
        [
         "Zambia",
         29
        ],
        [
         "Latvia",
         29
        ],
        [
         "Fiji",
         28
        ],
        [
         "Refugee Olympic Team",
         26
        ],
        [
         "Indonesia",
         26
        ],
        [
         "Honduras",
         25
        ],
        [
         "Uganda",
         24
        ],
        [
         "Singapore",
         23
        ],
        [
         "Guatemala",
         22
        ],
        [
         "Angola",
         20
        ],
        [
         "Republic of Moldova",
         19
        ],
        [
         "Philippines",
         18
        ],
        [
         "Vietnam",
         17
        ],
        [
         "Bahamas",
         16
        ],
        [
         "Armenia",
         16
        ],
        [
         "Kyrgyzstan",
         16
        ],
        [
         "Qatar",
         14
        ],
        [
         "Ghana",
         14
        ],
        [
         "Cyprus",
         14
        ],
        [
         "Eritrea",
         13
        ],
        [
         "Botswana",
         13
        ],
        [
         "Costa Rica",
         13
        ],
        [
         "Jordan",
         11
        ],
        [
         "Uruguay",
         11
        ],
        [
         "Namibia",
         11
        ],
        [
         "Luxembourg",
         11
        ],
        [
         "Cameroon",
         11
        ],
        [
         "Kosovo",
         10
        ],
        [
         "Kuwait",
         10
        ],
        [
         "Pakistan",
         10
        ],
        [
         "Senegal",
         9
        ],
        [
         "Sri Lanka",
         9
        ],
        [
         "Panama",
         9
        ],
        [
         "Paraguay",
         8
        ],
        [
         "Albania",
         8
        ],
        [
         "Nicaragua",
         8
        ],
        [
         "Tajikistan",
         8
        ],
        [
         "Turkmenistan",
         8
        ],
        [
         "Samoa",
         8
        ],
        [
         "North Macedonia",
         8
        ],
        [
         "Mozambique",
         8
        ],
        [
         "Guyana",
         7
        ],
        [
         "Benin",
         7
        ],
        [
         "Niger",
         7
        ],
        [
         "Barbados",
         7
        ],
        [
         "Democratic Republic of the Congo",
         7
        ],
        [
         "Bosnia and Herzegovina",
         7
        ],
        [
         "Papua New Guinea",
         7
        ],
        [
         "Burkina Faso",
         7
        ],
        [
         "Mauritius",
         7
        ],
        [
         "Madagascar",
         6
        ],
        [
         "Malta",
         6
        ],
        [
         "Burundi",
         6
        ],
        [
         "Bangladesh",
         6
        ],
        [
         "Monaco",
         6
        ],
        [
         "Cape Verde",
         6
        ],
        [
         "Grenada",
         6
        ],
        [
         "Cook Islands",
         6
        ],
        [
         "Lebanon",
         6
        ],
        [
         "Antigua and Barbuda",
         6
        ],
        [
         "Haiti",
         6
        ],
        [
         "Syrian Arab Republic",
         6
        ],
        [
         "Tonga",
         5
        ],
        [
         "Malawi",
         5
        ],
        [
         "Afghanistan",
         5
        ],
        [
         "Rwanda",
         5
        ],
        [
         "Sudan",
         5
        ],
        [
         "American Samoa",
         5
        ],
        [
         "Cayman Islands",
         5
        ],
        [
         "Bolivia",
         5
        ],
        [
         "Gabon",
         5
        ],
        [
         "Liechtenstein",
         5
        ],
        [
         "Oman",
         5
        ],
        [
         "Zimbabwe",
         5
        ],
        [
         "Guam",
         5
        ],
        [
         "Saint Lucia",
         5
        ],
        [
         "Guinea",
         5
        ],
        [
         "Seychelles",
         5
        ],
        [
         "Nepal",
         5
        ],
        [
         "El Salvador",
         5
        ],
        [
         "Djibouti",
         4
        ],
        [
         "Iraq",
         4
        ],
        [
         "Maldives",
         4
        ],
        [
         "Togo",
         4
        ],
        [
         "San Marino",
         4
        ],
        [
         "Sierra Leone",
         4
        ],
        [
         "Iceland",
         4
        ],
        [
         "Palestine",
         4
        ],
        [
         "Libya",
         4
        ],
        [
         "Eswatini",
         4
        ],
        [
         "United Arab Emirates",
         4
        ],
        [
         "Lao People's Democratic Republic",
         4
        ],
        [
         "Guinea-Bissau",
         4
        ],
        [
         "Virgin Islands, US",
         4
        ],
        [
         "Mali",
         4
        ],
        [
         "Chad",
         3
        ],
        [
         "Yemen",
         3
        ],
        [
         "Kiribati",
         3
        ],
        [
         "Comoros",
         3
        ],
        [
         "Cambodia",
         3
        ],
        [
         "Palau",
         3
        ],
        [
         "Equatorial Guinea",
         3
        ],
        [
         "Sao Tome and Principe",
         3
        ],
        [
         "Suriname",
         3
        ],
        [
         "Congo",
         3
        ],
        [
         "Bhutan",
         3
        ],
        [
         "Virgin Islands, British",
         3
        ],
        [
         "Aruba",
         3
        ],
        [
         "Federated States of Micronesia",
         3
        ],
        [
         "Liberia",
         3
        ],
        [
         "Belize",
         3
        ],
        [
         "Gambia",
         3
        ],
        [
         "Solomon Islands",
         3
        ],
        [
         "Democratic Republic of Timor-Leste",
         3
        ],
        [
         "Dominica",
         2
        ],
        [
         "Lesotho",
         2
        ],
        [
         "Myanmar",
         2
        ],
        [
         "Brunei Darussalam",
         2
        ],
        [
         "Somalia",
         2
        ],
        [
         "Marshall Islands",
         2
        ],
        [
         "Tuvalu",
         2
        ],
        [
         "United Republic of Tanzania",
         2
        ],
        [
         "Andorra",
         2
        ],
        [
         "St Vincent and the Grenadines",
         2
        ],
        [
         "Mauritania",
         2
        ],
        [
         "Central African Republic",
         2
        ],
        [
         "Nauru",
         2
        ],
        [
         "Saint Kitts and Nevis",
         2
        ],
        [
         "South Sudan",
         2
        ],
        [
         "Bermuda",
         2
        ],
        [
         "Vanuatu",
         2
        ]
       ],
       "datasetInfos": [],
       "dbfsResultPath": null,
       "isJsonSchema": true,
       "metadata": {},
       "overflow": false,
       "plotOptions": {
        "customPlotOptions": {},
        "displayType": "table",
        "pivotAggregation": null,
        "pivotColumns": null,
        "xColumns": null,
        "yColumns": null
       },
       "removedWidgets": [],
       "schema": [
        {
         "metadata": "{}",
         "name": "Country",
         "type": "\"string\""
        },
        {
         "metadata": "{}",
         "name": "Players_count",
         "type": "\"long\""
        }
       ],
       "type": "table"
      }
     },
     "output_type": "display_data"
    }
   ],
   "source": [
    "adf1=df1.groupBy(\"Country\").agg(\n",
    "count(\"PersonName\").alias(\"Players_count\")).orderBy(expr(\"Players_Count\").desc())\n",
    "display(adf1)"
   ]
  },
  {
   "cell_type": "code",
   "execution_count": 0,
   "metadata": {
    "application/vnd.databricks.v1+cell": {
     "cellMetadata": {
      "byteLimit": 2048000,
      "rowLimit": 10000
     },
     "inputWidgets": {},
     "nuid": "4823e5aa-6a33-49f9-848b-b9d1343782fd",
     "showTitle": false,
     "title": ""
    }
   },
   "outputs": [],
   "source": [
    "df_join=adf1.join(df4, \n",
    "               adf1.Country == df4.Team_Country, \n",
    "               \"inner\").orderBy(\"Rank_Overall\")\n"
   ]
  },
  {
   "cell_type": "code",
   "execution_count": 0,
   "metadata": {
    "application/vnd.databricks.v1+cell": {
     "cellMetadata": {
      "byteLimit": 2048000,
      "rowLimit": 10000
     },
     "inputWidgets": {},
     "nuid": "5a6a9f98-696d-45c4-8b3b-d66819ed30d1",
     "showTitle": false,
     "title": ""
    }
   },
   "outputs": [
    {
     "output_type": "display_data",
     "data": {
      "text/html": [
       "<style scoped>\n",
       "  .table-result-container {\n",
       "    max-height: 300px;\n",
       "    overflow: auto;\n",
       "  }\n",
       "  table, th, td {\n",
       "    border: 1px solid black;\n",
       "    border-collapse: collapse;\n",
       "  }\n",
       "  th, td {\n",
       "    padding: 5px;\n",
       "  }\n",
       "  th {\n",
       "    text-align: left;\n",
       "  }\n",
       "</style><div class='table-result-container'><table class='table-result'><thead style='background-color: white'><tr><th>Country</th><th>Gold_won</th><th>Silver_won</th><th>Bronze_won</th><th>Total_won</th><th>Rank_Overall</th><th>Players_count</th></tr></thead><tbody><tr><td>United States of America</td><td>39</td><td>41</td><td>33</td><td>113</td><td>1</td><td>615</td></tr><tr><td>People's Republic of China</td><td>38</td><td>32</td><td>18</td><td>88</td><td>2</td><td>401</td></tr><tr><td>ROC</td><td>20</td><td>28</td><td>23</td><td>71</td><td>3</td><td>318</td></tr><tr><td>Great Britain</td><td>22</td><td>21</td><td>22</td><td>65</td><td>4</td><td>366</td></tr><tr><td>Japan</td><td>27</td><td>14</td><td>17</td><td>58</td><td>5</td><td>586</td></tr><tr><td>Australia</td><td>17</td><td>7</td><td>22</td><td>46</td><td>6</td><td>470</td></tr><tr><td>Italy</td><td>10</td><td>10</td><td>20</td><td>40</td><td>7</td><td>356</td></tr><tr><td>Germany</td><td>10</td><td>11</td><td>16</td><td>37</td><td>8</td><td>400</td></tr><tr><td>Netherlands</td><td>10</td><td>12</td><td>14</td><td>36</td><td>9</td><td>274</td></tr><tr><td>France</td><td>10</td><td>12</td><td>11</td><td>33</td><td>10</td><td>377</td></tr><tr><td>Canada</td><td>7</td><td>6</td><td>11</td><td>24</td><td>11</td><td>368</td></tr><tr><td>Brazil</td><td>7</td><td>6</td><td>8</td><td>21</td><td>12</td><td>291</td></tr><tr><td>Republic of Korea</td><td>6</td><td>4</td><td>10</td><td>20</td><td>13</td><td>223</td></tr><tr><td>New Zealand</td><td>7</td><td>6</td><td>7</td><td>20</td><td>13</td><td>202</td></tr><tr><td>Hungary</td><td>6</td><td>7</td><td>7</td><td>20</td><td>13</td><td>155</td></tr><tr><td>Ukraine</td><td>1</td><td>6</td><td>12</td><td>19</td><td>16</td><td>152</td></tr><tr><td>Spain</td><td>3</td><td>8</td><td>6</td><td>17</td><td>17</td><td>324</td></tr><tr><td>Cuba</td><td>7</td><td>3</td><td>5</td><td>15</td><td>18</td><td>69</td></tr><tr><td>Poland</td><td>4</td><td>5</td><td>5</td><td>14</td><td>19</td><td>195</td></tr><tr><td>Turkey</td><td>2</td><td>2</td><td>9</td><td>13</td><td>20</td><td>102</td></tr><tr><td>Switzerland</td><td>3</td><td>4</td><td>6</td><td>13</td><td>20</td><td>115</td></tr><tr><td>Chinese Taipei</td><td>2</td><td>4</td><td>6</td><td>12</td><td>22</td><td>67</td></tr><tr><td>Denmark</td><td>3</td><td>4</td><td>4</td><td>11</td><td>23</td><td>103</td></tr><tr><td>Czech Republic</td><td>4</td><td>4</td><td>3</td><td>11</td><td>23</td><td>117</td></tr><tr><td>Kenya</td><td>4</td><td>4</td><td>2</td><td>10</td><td>25</td><td>78</td></tr><tr><td>Sweden</td><td>3</td><td>6</td><td>0</td><td>9</td><td>26</td><td>129</td></tr><tr><td>Jamaica</td><td>4</td><td>1</td><td>4</td><td>9</td><td>26</td><td>60</td></tr><tr><td>Serbia</td><td>3</td><td>1</td><td>5</td><td>9</td><td>26</td><td>83</td></tr><tr><td>Croatia</td><td>3</td><td>3</td><td>2</td><td>8</td><td>29</td><td>57</td></tr><tr><td>Norway</td><td>4</td><td>2</td><td>2</td><td>8</td><td>29</td><td>92</td></tr><tr><td>Georgia</td><td>2</td><td>5</td><td>1</td><td>8</td><td>29</td><td>35</td></tr><tr><td>Kazakhstan</td><td>0</td><td>0</td><td>8</td><td>8</td><td>29</td><td>92</td></tr><tr><td>Islamic Republic of Iran</td><td>3</td><td>2</td><td>2</td><td>7</td><td>33</td><td>66</td></tr><tr><td>Belgium</td><td>3</td><td>1</td><td>3</td><td>7</td><td>33</td><td>125</td></tr><tr><td>India</td><td>1</td><td>2</td><td>4</td><td>7</td><td>33</td><td>117</td></tr><tr><td>Belarus</td><td>1</td><td>3</td><td>3</td><td>7</td><td>33</td><td>104</td></tr><tr><td>Azerbaijan</td><td>0</td><td>3</td><td>4</td><td>7</td><td>33</td><td>41</td></tr><tr><td>Austria</td><td>1</td><td>1</td><td>5</td><td>7</td><td>33</td><td>72</td></tr><tr><td>Hong Kong, China</td><td>1</td><td>2</td><td>3</td><td>6</td><td>39</td><td>40</td></tr><tr><td>Bulgaria</td><td>3</td><td>1</td><td>2</td><td>6</td><td>39</td><td>41</td></tr><tr><td>Egypt</td><td>1</td><td>1</td><td>4</td><td>6</td><td>39</td><td>133</td></tr><tr><td>Indonesia</td><td>1</td><td>1</td><td>3</td><td>5</td><td>42</td><td>26</td></tr><tr><td>Uzbekistan</td><td>3</td><td>0</td><td>2</td><td>5</td><td>42</td><td>63</td></tr><tr><td>Slovenia</td><td>3</td><td>1</td><td>1</td><td>5</td><td>42</td><td>51</td></tr><tr><td>Dominican Republic</td><td>0</td><td>3</td><td>2</td><td>5</td><td>42</td><td>61</td></tr><tr><td>Colombia</td><td>0</td><td>4</td><td>1</td><td>5</td><td>42</td><td>64</td></tr><tr><td>Philippines</td><td>1</td><td>2</td><td>1</td><td>4</td><td>47</td><td>18</td></tr><tr><td>Greece</td><td>2</td><td>1</td><td>1</td><td>4</td><td>47</td><td>75</td></tr><tr><td>Slovakia</td><td>1</td><td>2</td><td>1</td><td>4</td><td>47</td><td>38</td></tr><tr><td>Ireland</td><td>2</td><td>0</td><td>2</td><td>4</td><td>47</td><td>116</td></tr><tr><td>Venezuela</td><td>1</td><td>3</td><td>0</td><td>4</td><td>47</td><td>43</td></tr><tr><td>Israel</td><td>2</td><td>0</td><td>2</td><td>4</td><td>47</td><td>85</td></tr><tr><td>Mexico</td><td>0</td><td>0</td><td>4</td><td>4</td><td>47</td><td>155</td></tr><tr><td>Mongolia</td><td>0</td><td>1</td><td>3</td><td>4</td><td>47</td><td>43</td></tr><tr><td>Armenia</td><td>0</td><td>2</td><td>2</td><td>4</td><td>47</td><td>16</td></tr><tr><td>Uganda</td><td>2</td><td>1</td><td>1</td><td>4</td><td>47</td><td>24</td></tr><tr><td>Ethiopia</td><td>1</td><td>1</td><td>2</td><td>4</td><td>47</td><td>42</td></tr><tr><td>Portugal</td><td>1</td><td>1</td><td>2</td><td>4</td><td>47</td><td>85</td></tr><tr><td>Romania</td><td>1</td><td>3</td><td>0</td><td>4</td><td>47</td><td>99</td></tr><tr><td>Argentina</td><td>0</td><td>1</td><td>2</td><td>3</td><td>60</td><td>180</td></tr><tr><td>San Marino</td><td>0</td><td>1</td><td>2</td><td>3</td><td>60</td><td>4</td></tr><tr><td>Qatar</td><td>2</td><td>0</td><td>1</td><td>3</td><td>60</td><td>14</td></tr><tr><td>Ecuador</td><td>2</td><td>1</td><td>0</td><td>3</td><td>60</td><td>46</td></tr><tr><td>Kyrgyzstan</td><td>0</td><td>2</td><td>1</td><td>3</td><td>60</td><td>16</td></tr><tr><td>South Africa</td><td>1</td><td>2</td><td>0</td><td>3</td><td>60</td><td>171</td></tr><tr><td>Malaysia</td><td>0</td><td>1</td><td>1</td><td>2</td><td>66</td><td>29</td></tr><tr><td>Fiji</td><td>1</td><td>0</td><td>1</td><td>2</td><td>66</td><td>28</td></tr><tr><td>Jordan</td><td>0</td><td>1</td><td>1</td><td>2</td><td>66</td><td>11</td></tr><tr><td>Kosovo</td><td>2</td><td>0</td><td>0</td><td>2</td><td>66</td><td>10</td></tr><tr><td>Finland</td><td>0</td><td>0</td><td>2</td><td>2</td><td>66</td><td>45</td></tr><tr><td>Bahamas</td><td>2</td><td>0</td><td>0</td><td>2</td><td>66</td><td>16</td></tr><tr><td>Nigeria</td><td>0</td><td>1</td><td>1</td><td>2</td><td>66</td><td>59</td></tr><tr><td>Thailand</td><td>1</td><td>0</td><td>1</td><td>2</td><td>66</td><td>39</td></tr><tr><td>Estonia</td><td>1</td><td>0</td><td>1</td><td>2</td><td>66</td><td>33</td></tr><tr><td>Tunisia</td><td>1</td><td>1</td><td>0</td><td>2</td><td>66</td><td>57</td></tr><tr><td>Latvia</td><td>1</td><td>0</td><td>1</td><td>2</td><td>66</td><td>29</td></tr><tr><td>Ghana</td><td>0</td><td>0</td><td>1</td><td>1</td><td>77</td><td>14</td></tr><tr><td>Kuwait</td><td>0</td><td>0</td><td>1</td><td>1</td><td>77</td><td>10</td></tr><tr><td>Puerto Rico</td><td>1</td><td>0</td><td>0</td><td>1</td><td>77</td><td>35</td></tr><tr><td>Lithuania</td><td>0</td><td>1</td><td>0</td><td>1</td><td>77</td><td>37</td></tr><tr><td>Turkmenistan</td><td>0</td><td>1</td><td>0</td><td>1</td><td>77</td><td>8</td></tr><tr><td>Morocco</td><td>1</td><td>0</td><td>0</td><td>1</td><td>77</td><td>48</td></tr><tr><td>C�te d'Ivoire</td><td>0</td><td>0</td><td>1</td><td>1</td><td>77</td><td>29</td></tr><tr><td>Grenada</td><td>0</td><td>0</td><td>1</td><td>1</td><td>77</td><td>6</td></tr><tr><td>Saudi Arabia</td><td>0</td><td>1</td><td>0</td><td>1</td><td>77</td><td>32</td></tr><tr><td>Namibia</td><td>0</td><td>1</td><td>0</td><td>1</td><td>77</td><td>11</td></tr><tr><td>North Macedonia</td><td>0</td><td>1</td><td>0</td><td>1</td><td>77</td><td>8</td></tr><tr><td>Botswana</td><td>0</td><td>0</td><td>1</td><td>1</td><td>77</td><td>13</td></tr><tr><td>Republic of Moldova</td><td>0</td><td>0</td><td>1</td><td>1</td><td>77</td><td>19</td></tr><tr><td>Burkina Faso</td><td>0</td><td>0</td><td>1</td><td>1</td><td>77</td><td>7</td></tr><tr><td>Bermuda</td><td>1</td><td>0</td><td>0</td><td>1</td><td>77</td><td>2</td></tr><tr><td>Bahrain</td><td>0</td><td>1</td><td>0</td><td>1</td><td>77</td><td>31</td></tr><tr><td>Syrian Arab Republic</td><td>0</td><td>0</td><td>1</td><td>1</td><td>77</td><td>6</td></tr></tbody></table></div>"
      ]
     },
     "metadata": {
      "application/vnd.databricks.v1+output": {
       "addedWidgets": {},
       "aggData": [],
       "aggError": "",
       "aggOverflow": false,
       "aggSchema": [],
       "aggSeriesLimitReached": false,
       "aggType": "",
       "arguments": {},
       "columnCustomDisplayInfos": {},
       "data": [
        [
         "United States of America",
         39,
         41,
         33,
         113,
         1,
         615
        ],
        [
         "People's Republic of China",
         38,
         32,
         18,
         88,
         2,
         401
        ],
        [
         "ROC",
         20,
         28,
         23,
         71,
         3,
         318
        ],
        [
         "Great Britain",
         22,
         21,
         22,
         65,
         4,
         366
        ],
        [
         "Japan",
         27,
         14,
         17,
         58,
         5,
         586
        ],
        [
         "Australia",
         17,
         7,
         22,
         46,
         6,
         470
        ],
        [
         "Italy",
         10,
         10,
         20,
         40,
         7,
         356
        ],
        [
         "Germany",
         10,
         11,
         16,
         37,
         8,
         400
        ],
        [
         "Netherlands",
         10,
         12,
         14,
         36,
         9,
         274
        ],
        [
         "France",
         10,
         12,
         11,
         33,
         10,
         377
        ],
        [
         "Canada",
         7,
         6,
         11,
         24,
         11,
         368
        ],
        [
         "Brazil",
         7,
         6,
         8,
         21,
         12,
         291
        ],
        [
         "Republic of Korea",
         6,
         4,
         10,
         20,
         13,
         223
        ],
        [
         "New Zealand",
         7,
         6,
         7,
         20,
         13,
         202
        ],
        [
         "Hungary",
         6,
         7,
         7,
         20,
         13,
         155
        ],
        [
         "Ukraine",
         1,
         6,
         12,
         19,
         16,
         152
        ],
        [
         "Spain",
         3,
         8,
         6,
         17,
         17,
         324
        ],
        [
         "Cuba",
         7,
         3,
         5,
         15,
         18,
         69
        ],
        [
         "Poland",
         4,
         5,
         5,
         14,
         19,
         195
        ],
        [
         "Turkey",
         2,
         2,
         9,
         13,
         20,
         102
        ],
        [
         "Switzerland",
         3,
         4,
         6,
         13,
         20,
         115
        ],
        [
         "Chinese Taipei",
         2,
         4,
         6,
         12,
         22,
         67
        ],
        [
         "Denmark",
         3,
         4,
         4,
         11,
         23,
         103
        ],
        [
         "Czech Republic",
         4,
         4,
         3,
         11,
         23,
         117
        ],
        [
         "Kenya",
         4,
         4,
         2,
         10,
         25,
         78
        ],
        [
         "Sweden",
         3,
         6,
         0,
         9,
         26,
         129
        ],
        [
         "Jamaica",
         4,
         1,
         4,
         9,
         26,
         60
        ],
        [
         "Serbia",
         3,
         1,
         5,
         9,
         26,
         83
        ],
        [
         "Croatia",
         3,
         3,
         2,
         8,
         29,
         57
        ],
        [
         "Norway",
         4,
         2,
         2,
         8,
         29,
         92
        ],
        [
         "Georgia",
         2,
         5,
         1,
         8,
         29,
         35
        ],
        [
         "Kazakhstan",
         0,
         0,
         8,
         8,
         29,
         92
        ],
        [
         "Islamic Republic of Iran",
         3,
         2,
         2,
         7,
         33,
         66
        ],
        [
         "Belgium",
         3,
         1,
         3,
         7,
         33,
         125
        ],
        [
         "India",
         1,
         2,
         4,
         7,
         33,
         117
        ],
        [
         "Belarus",
         1,
         3,
         3,
         7,
         33,
         104
        ],
        [
         "Azerbaijan",
         0,
         3,
         4,
         7,
         33,
         41
        ],
        [
         "Austria",
         1,
         1,
         5,
         7,
         33,
         72
        ],
        [
         "Hong Kong, China",
         1,
         2,
         3,
         6,
         39,
         40
        ],
        [
         "Bulgaria",
         3,
         1,
         2,
         6,
         39,
         41
        ],
        [
         "Egypt",
         1,
         1,
         4,
         6,
         39,
         133
        ],
        [
         "Indonesia",
         1,
         1,
         3,
         5,
         42,
         26
        ],
        [
         "Uzbekistan",
         3,
         0,
         2,
         5,
         42,
         63
        ],
        [
         "Slovenia",
         3,
         1,
         1,
         5,
         42,
         51
        ],
        [
         "Dominican Republic",
         0,
         3,
         2,
         5,
         42,
         61
        ],
        [
         "Colombia",
         0,
         4,
         1,
         5,
         42,
         64
        ],
        [
         "Philippines",
         1,
         2,
         1,
         4,
         47,
         18
        ],
        [
         "Greece",
         2,
         1,
         1,
         4,
         47,
         75
        ],
        [
         "Slovakia",
         1,
         2,
         1,
         4,
         47,
         38
        ],
        [
         "Ireland",
         2,
         0,
         2,
         4,
         47,
         116
        ],
        [
         "Venezuela",
         1,
         3,
         0,
         4,
         47,
         43
        ],
        [
         "Israel",
         2,
         0,
         2,
         4,
         47,
         85
        ],
        [
         "Mexico",
         0,
         0,
         4,
         4,
         47,
         155
        ],
        [
         "Mongolia",
         0,
         1,
         3,
         4,
         47,
         43
        ],
        [
         "Armenia",
         0,
         2,
         2,
         4,
         47,
         16
        ],
        [
         "Uganda",
         2,
         1,
         1,
         4,
         47,
         24
        ],
        [
         "Ethiopia",
         1,
         1,
         2,
         4,
         47,
         42
        ],
        [
         "Portugal",
         1,
         1,
         2,
         4,
         47,
         85
        ],
        [
         "Romania",
         1,
         3,
         0,
         4,
         47,
         99
        ],
        [
         "Argentina",
         0,
         1,
         2,
         3,
         60,
         180
        ],
        [
         "San Marino",
         0,
         1,
         2,
         3,
         60,
         4
        ],
        [
         "Qatar",
         2,
         0,
         1,
         3,
         60,
         14
        ],
        [
         "Ecuador",
         2,
         1,
         0,
         3,
         60,
         46
        ],
        [
         "Kyrgyzstan",
         0,
         2,
         1,
         3,
         60,
         16
        ],
        [
         "South Africa",
         1,
         2,
         0,
         3,
         60,
         171
        ],
        [
         "Malaysia",
         0,
         1,
         1,
         2,
         66,
         29
        ],
        [
         "Fiji",
         1,
         0,
         1,
         2,
         66,
         28
        ],
        [
         "Jordan",
         0,
         1,
         1,
         2,
         66,
         11
        ],
        [
         "Kosovo",
         2,
         0,
         0,
         2,
         66,
         10
        ],
        [
         "Finland",
         0,
         0,
         2,
         2,
         66,
         45
        ],
        [
         "Bahamas",
         2,
         0,
         0,
         2,
         66,
         16
        ],
        [
         "Nigeria",
         0,
         1,
         1,
         2,
         66,
         59
        ],
        [
         "Thailand",
         1,
         0,
         1,
         2,
         66,
         39
        ],
        [
         "Estonia",
         1,
         0,
         1,
         2,
         66,
         33
        ],
        [
         "Tunisia",
         1,
         1,
         0,
         2,
         66,
         57
        ],
        [
         "Latvia",
         1,
         0,
         1,
         2,
         66,
         29
        ],
        [
         "Ghana",
         0,
         0,
         1,
         1,
         77,
         14
        ],
        [
         "Kuwait",
         0,
         0,
         1,
         1,
         77,
         10
        ],
        [
         "Puerto Rico",
         1,
         0,
         0,
         1,
         77,
         35
        ],
        [
         "Lithuania",
         0,
         1,
         0,
         1,
         77,
         37
        ],
        [
         "Turkmenistan",
         0,
         1,
         0,
         1,
         77,
         8
        ],
        [
         "Morocco",
         1,
         0,
         0,
         1,
         77,
         48
        ],
        [
         "C�te d'Ivoire",
         0,
         0,
         1,
         1,
         77,
         29
        ],
        [
         "Grenada",
         0,
         0,
         1,
         1,
         77,
         6
        ],
        [
         "Saudi Arabia",
         0,
         1,
         0,
         1,
         77,
         32
        ],
        [
         "Namibia",
         0,
         1,
         0,
         1,
         77,
         11
        ],
        [
         "North Macedonia",
         0,
         1,
         0,
         1,
         77,
         8
        ],
        [
         "Botswana",
         0,
         0,
         1,
         1,
         77,
         13
        ],
        [
         "Republic of Moldova",
         0,
         0,
         1,
         1,
         77,
         19
        ],
        [
         "Burkina Faso",
         0,
         0,
         1,
         1,
         77,
         7
        ],
        [
         "Bermuda",
         1,
         0,
         0,
         1,
         77,
         2
        ],
        [
         "Bahrain",
         0,
         1,
         0,
         1,
         77,
         31
        ],
        [
         "Syrian Arab Republic",
         0,
         0,
         1,
         1,
         77,
         6
        ]
       ],
       "datasetInfos": [],
       "dbfsResultPath": null,
       "isJsonSchema": true,
       "metadata": {},
       "overflow": false,
       "plotOptions": {
        "customPlotOptions": {},
        "displayType": "table",
        "pivotAggregation": null,
        "pivotColumns": null,
        "xColumns": null,
        "yColumns": null
       },
       "removedWidgets": [],
       "schema": [
        {
         "metadata": "{}",
         "name": "Country",
         "type": "\"string\""
        },
        {
         "metadata": "{}",
         "name": "Gold_won",
         "type": "\"integer\""
        },
        {
         "metadata": "{}",
         "name": "Silver_won",
         "type": "\"integer\""
        },
        {
         "metadata": "{}",
         "name": "Bronze_won",
         "type": "\"integer\""
        },
        {
         "metadata": "{}",
         "name": "Total_won",
         "type": "\"integer\""
        },
        {
         "metadata": "{}",
         "name": "Rank_Overall",
         "type": "\"integer\""
        },
        {
         "metadata": "{}",
         "name": "Players_count",
         "type": "\"long\""
        }
       ],
       "type": "table"
      }
     },
     "output_type": "display_data"
    }
   ],
   "source": [
    "df6=df_join.select(\n",
    "    col(\"Country\"),\n",
    "    col(\"Gold_won\"),\n",
    "    col(\"Silver_won\"),\n",
    "    col(\"Bronze_won\"),\n",
    "    col(\"Total_won\"),\n",
    "    col(\"Rank_Overall\"),\n",
    "    col(\"Players_count\")\n",
    ")\n",
    "display(df6)"
   ]
  },
  {
   "cell_type": "code",
   "execution_count": 0,
   "metadata": {
    "application/vnd.databricks.v1+cell": {
     "cellMetadata": {
      "byteLimit": 2048000,
      "rowLimit": 10000
     },
     "inputWidgets": {},
     "nuid": "64797e32-cee8-49fc-9d12-f49735fdfb0a",
     "showTitle": false,
     "title": ""
    }
   },
   "outputs": [],
   "source": [
    "df6.write.option(\"header\",'True').option(\"path\",\"/mnt/olymproj/reporting-data/Final\").option(\"mode\",\"overwrite\").save()"
   ]
  }
 ],
 "metadata": {
  "application/vnd.databricks.v1+notebook": {
   "dashboards": [],
   "language": "python",
   "notebookMetadata": {
    "mostRecentlyExecutedCommandWithImplicitDF": {
     "commandId": 3128905866195639,
     "dataframes": [
      "_sqldf"
     ]
    },
    "pythonIndentUnit": 4
   },
   "notebookName": "olympic-data-analytics-2",
   "widgets": {}
  }
 },
 "nbformat": 4,
 "nbformat_minor": 0
}
